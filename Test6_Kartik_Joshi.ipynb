{
  "nbformat": 4,
  "nbformat_minor": 0,
  "metadata": {
    "colab": {
      "provenance": []
    },
    "kernelspec": {
      "name": "python3",
      "display_name": "Python 3"
    },
    "language_info": {
      "name": "python"
    }
  },
  "cells": [
    {
      "cell_type": "markdown",
      "source": [
        "Importing all the libaries required"
      ],
      "metadata": {
        "id": "ZyF5FjXOuVWU"
      }
    },
    {
      "cell_type": "code",
      "execution_count": 11,
      "metadata": {
        "id": "b84lsTMusnqy"
      },
      "outputs": [],
      "source": [
        "import numpy as np\n",
        "from scipy.stats import mannwhitneyu, norm\n",
        "from sympy import symbols, diff, log"
      ]
    },
    {
      "cell_type": "code",
      "source": [
        "mu = np.random.uniform(0, 100)\n",
        "\n",
        "sigma_sqr = np.random.uniform(1, 50)\n",
        "\n",
        "sigma = np.sqrt(sigma_sqr)"
      ],
      "metadata": {
        "id": "uGboo1Rzstgv"
      },
      "execution_count": 37,
      "outputs": []
    },
    {
      "cell_type": "markdown",
      "source": [
        "We genrated a normal disctribution of range 0 to 100 and here we define the range of mu  and values of sigma(squared) in the range 1 to 50,and sigma as the square root of sigma."
      ],
      "metadata": {
        "id": "8fKtx6syuitx"
      }
    },
    {
      "cell_type": "code",
      "source": [
        "n = 1000\n",
        "Pnts = np.random.normal(mu, sigma, n)"
      ],
      "metadata": {
        "id": "arZhlLKns1UD"
      },
      "execution_count": 38,
      "outputs": []
    },
    {
      "cell_type": "markdown",
      "source": [
        "Here we have genrated random points with normal disribution"
      ],
      "metadata": {
        "id": "7vZvIahXvHo3"
      }
    },
    {
      "cell_type": "code",
      "source": [
        "x = symbols('x')\n",
        "fx = (5*x**2 + 9*x)/(2*x - 8) + 1/log(1+x)\n",
        "fx1 = diff(fx, x)"
      ],
      "metadata": {
        "id": "DPxaXTC0s3nr"
      },
      "execution_count": 39,
      "outputs": []
    },
    {
      "cell_type": "markdown",
      "source": [
        "Here we define the function fx and its derivative as fx1"
      ],
      "metadata": {
        "id": "OBtB9yqrvOPe"
      }
    },
    {
      "cell_type": "code",
      "source": [
        "fx_mu = fx.subs(x, mu)\n",
        "fx1_mu = fx1.subs(x, mu)\n",
        "fx_var = (fx1_mu**2) * sigma_sqr"
      ],
      "metadata": {
        "id": "KA9k7mDGs50f"
      },
      "execution_count": 40,
      "outputs": []
    },
    {
      "cell_type": "markdown",
      "source": [
        "Finding the value of mu for function fx and defing the varianc as function's derivative mu squared times sigma-squared"
      ],
      "metadata": {
        "id": "Ia4DGyaSvqot"
      }
    },
    {
      "cell_type": "code",
      "source": [
        "fx_pnts = [float(fx.subs(x, y)) for y in Pnts]"
      ],
      "metadata": {
        "id": "mayIT-erteJz"
      },
      "execution_count": 41,
      "outputs": []
    },
    {
      "cell_type": "markdown",
      "source": [
        "Finding the value of function on all the random points that was stored in Pnts."
      ],
      "metadata": {
        "id": "UBSSOmYHvyWX"
      }
    },
    {
      "cell_type": "code",
      "source": [
        "norm = np.random.normal(float(fx_mu), np.sqrt(float(fx_var)), n)"
      ],
      "metadata": {
        "id": "Farvyhu8tiLt"
      },
      "execution_count": 42,
      "outputs": []
    },
    {
      "cell_type": "code",
      "source": [
        "Result = np.array(fx_pnts)\n",
        "stats, p_val = mannwhitneyu(Result, norm, alternative='two-sided')"
      ],
      "metadata": {
        "id": "ZAjpfCjit0-6"
      },
      "execution_count": 43,
      "outputs": []
    },
    {
      "cell_type": "markdown",
      "source": [
        "Performing the U-Test"
      ],
      "metadata": {
        "id": "ZPxWysvjwtAL"
      }
    },
    {
      "cell_type": "code",
      "source": [
        "print(\"Stats of the test=>\", stats)\n",
        "print(\"P-value of the test=>\", p_val)"
      ],
      "metadata": {
        "colab": {
          "base_uri": "https://localhost:8080/"
        },
        "id": "uOnCJS1ot2vI",
        "outputId": "84c203d0-cb13-4272-bb38-78f55e0a404e"
      },
      "execution_count": 45,
      "outputs": [
        {
          "output_type": "stream",
          "name": "stdout",
          "text": [
            "Stats of the test=> 488157.0\n",
            "P-value of the test: 0.3590971247298399\n"
          ]
        }
      ]
    }
  ]
}